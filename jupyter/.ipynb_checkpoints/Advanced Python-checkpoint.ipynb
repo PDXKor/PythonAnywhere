{
 "cells": [
  {
   "cell_type": "markdown",
   "id": "e1ac0b2b",
   "metadata": {},
   "source": [
    "### Lambda Functions \n",
    "\n",
    "Anonymous functions based on lambda calculus created by Alonzo Church in the 1930s. Python is not a functional language but has functional capabilities like map() and the lambda operator."
   ]
  },
  {
   "cell_type": "code",
   "execution_count": 6,
   "id": "98553b84",
   "metadata": {},
   "outputs": [
    {
     "data": {
      "text/plain": [
       "100"
      ]
     },
     "execution_count": 6,
     "metadata": {},
     "output_type": "execute_result"
    }
   ],
   "source": [
    "(lambda x:x**2)(10)"
   ]
  },
  {
   "cell_type": "code",
   "execution_count": 5,
   "id": "ad0668ec",
   "metadata": {},
   "outputs": [
    {
     "data": {
      "text/plain": [
       "3"
      ]
     },
     "execution_count": 5,
     "metadata": {},
     "output_type": "execute_result"
    }
   ],
   "source": [
    "# you can treat lambdas like a named function\n",
    "add_one = lambda x: x+1\n",
    "add_one(2)"
   ]
  },
  {
   "cell_type": "markdown",
   "id": "a1df50b2",
   "metadata": {},
   "source": [
    "### Map "
   ]
  },
  {
   "cell_type": "markdown",
   "id": "d522782a",
   "metadata": {},
   "source": [
    "Use map() to iterate through an iteratable without using a for loop. The map() function is written in C, and can be more efficient than a regular python for loop."
   ]
  },
  {
   "cell_type": "code",
   "execution_count": 10,
   "id": "25f26256",
   "metadata": {},
   "outputs": [
    {
     "data": {
      "text/plain": [
       "[10.0, 10.0, 10.0]"
      ]
     },
     "execution_count": 10,
     "metadata": {},
     "output_type": "execute_result"
    }
   ],
   "source": [
    "mixed_lst = [\"10\",10,10.0]\n",
    "float_lst = list(map(lambda x: float(x),mixed_lst))\n",
    "float_lst"
   ]
  },
  {
   "cell_type": "code",
   "execution_count": 13,
   "id": "b354ec07",
   "metadata": {},
   "outputs": [
    {
     "data": {
      "text/plain": [
       "[11.0, 11.0, 11.0]"
      ]
     },
     "execution_count": 13,
     "metadata": {},
     "output_type": "execute_result"
    }
   ],
   "source": [
    "float_pone = map(add_one,float_lst)\n",
    "float_pone_lst = list(float_pone)\n",
    "float_pone_lst"
   ]
  },
  {
   "cell_type": "markdown",
   "id": "939d9fd6",
   "metadata": {},
   "source": [
    "### Filter \n",
    "\n",
    "The filter function filters the given iteratable with a provided function that performs a boolean test on each element."
   ]
  },
  {
   "cell_type": "code",
   "execution_count": 19,
   "id": "940af4e3",
   "metadata": {},
   "outputs": [
    {
     "data": {
      "text/plain": [
       "[1, 3, 5, 13, 25]"
      ]
     },
     "execution_count": 19,
     "metadata": {},
     "output_type": "execute_result"
    }
   ],
   "source": [
    "# filtering\n",
    "seq = [0,1,2,3,5,8,13,20,25,50]\n",
    "\n",
    "# modulus operator returns the remainder of dividing the left hand operand by the right hand operand\n",
    "# the example below removes anything that is divisible by 2\n",
    "results = filter(lambda x: x % 2 != 0, seq)\n",
    "list(results)"
   ]
  },
  {
   "cell_type": "code",
   "execution_count": 22,
   "id": "94ecfd24",
   "metadata": {},
   "outputs": [
    {
     "data": {
      "text/plain": [
       "[35.0, 21.0, 234.0]"
      ]
     },
     "execution_count": 22,
     "metadata": {},
     "output_type": "execute_result"
    }
   ],
   "source": [
    "data = ['10',35,21,'234',7.5]\n",
    "results = map(lambda x: float(x),data)\n",
    "results = filter(lambda x: x > 10, results)\n",
    "list(results)"
   ]
  },
  {
   "cell_type": "markdown",
   "id": "e202cfa0",
   "metadata": {},
   "source": [
    "### List Comprehensions\n",
    "\n",
    "List comprehensions can be used as a subsitute for lambda functions and map or filter functions"
   ]
  },
  {
   "cell_type": "code",
   "execution_count": 44,
   "id": "471a342a",
   "metadata": {},
   "outputs": [
    {
     "data": {
      "text/plain": [
       "[10.0, 10.0, 10.0]"
      ]
     },
     "execution_count": 44,
     "metadata": {},
     "output_type": "execute_result"
    }
   ],
   "source": [
    "mixed_lst = [\"10\",10,10.0]\n",
    "mixed_lst = [float(x) for x in mixed_lst]\n",
    "\n",
    "mixed_lst"
   ]
  },
  {
   "cell_type": "code",
   "execution_count": 47,
   "id": "3afc8121",
   "metadata": {},
   "outputs": [
    {
     "data": {
      "text/plain": [
       "[35.0, 21.0, 234.0]"
      ]
     },
     "execution_count": 47,
     "metadata": {},
     "output_type": "execute_result"
    }
   ],
   "source": [
    "data = ['10',35,21,'234',7.5]\n",
    "results = [float(x) for x in data]\n",
    "results = [x for x in results if x > 10]\n",
    "results"
   ]
  },
  {
   "cell_type": "markdown",
   "id": "367b6587",
   "metadata": {},
   "source": [
    "### Reduce\n",
    "\n",
    "Implements the technique of folding, or reduction that reduces a list of items to a single cumulative value."
   ]
  },
  {
   "cell_type": "code",
   "execution_count": 25,
   "id": "b5965587",
   "metadata": {},
   "outputs": [
    {
     "data": {
      "text/plain": [
       "150"
      ]
     },
     "execution_count": 25,
     "metadata": {},
     "output_type": "execute_result"
    }
   ],
   "source": [
    "from functools import reduce\n",
    "\n",
    "def cummulative_sum(a,b):\n",
    "    return a+b\n",
    "\n",
    "numbers = [10,20,30,40,50]\n",
    "reduce(cummulative_sum,numbers)"
   ]
  },
  {
   "cell_type": "markdown",
   "id": "ad9c28cd",
   "metadata": {},
   "source": [
    "### Zip\n",
    "Iterates through n lists creating a tuble of values in the same index position of eacth iterable"
   ]
  },
  {
   "cell_type": "code",
   "execution_count": 42,
   "id": "0b2aefe2",
   "metadata": {},
   "outputs": [
    {
     "name": "stdout",
     "output_type": "stream",
     "text": [
      "[0, 1, 2, 3, 4, 5, 6, 7, 8, 9]\n",
      "[0, 2, 4, 6, 8, 10, 12, 14, 16, 18]\n",
      "[(0, 0), (1, 2), (2, 4), (3, 6), (4, 8), (5, 10), (6, 12), (7, 14), (8, 16), (9, 18)]\n"
     ]
    }
   ],
   "source": [
    "x = list(range(10))\n",
    "y = list(map(lambda x:x*2,x))\n",
    "print(x)\n",
    "print(y)\n",
    "xy = zip(x,y)\n",
    "print(list(xy))"
   ]
  },
  {
   "cell_type": "code",
   "execution_count": 43,
   "id": "f19c1324",
   "metadata": {},
   "outputs": [
    {
     "data": {
      "text/plain": [
       "[('China', 1.4), ('US', 1.7), ('Russia', 0.8)]"
      ]
     },
     "execution_count": 43,
     "metadata": {},
     "output_type": "execute_result"
    }
   ],
   "source": [
    "country = ['China','US','Russia']\n",
    "gdp = [1.4,1.7,0.8]\n",
    "list(zip(country,gdp))"
   ]
  },
  {
   "cell_type": "markdown",
   "id": "8c8cca49",
   "metadata": {},
   "source": [
    "### Classes\n",
    "\n",
    "Not necessarily advanced, but are helpful to revisit. A class is a definition that will be used when an object is instanciated as a type of that class."
   ]
  },
  {
   "cell_type": "code",
   "execution_count": 48,
   "id": "d3a24888",
   "metadata": {},
   "outputs": [
    {
     "data": {
      "text/plain": [
       "['__class__',\n",
       " '__delattr__',\n",
       " '__dict__',\n",
       " '__dir__',\n",
       " '__doc__',\n",
       " '__eq__',\n",
       " '__format__',\n",
       " '__ge__',\n",
       " '__getattribute__',\n",
       " '__gt__',\n",
       " '__hash__',\n",
       " '__init__',\n",
       " '__init_subclass__',\n",
       " '__le__',\n",
       " '__lt__',\n",
       " '__module__',\n",
       " '__ne__',\n",
       " '__new__',\n",
       " '__reduce__',\n",
       " '__reduce_ex__',\n",
       " '__repr__',\n",
       " '__setattr__',\n",
       " '__sizeof__',\n",
       " '__str__',\n",
       " '__subclasshook__',\n",
       " '__weakref__']"
      ]
     },
     "execution_count": 48,
     "metadata": {},
     "output_type": "execute_result"
    }
   ],
   "source": [
    "class House:\n",
    "    pass\n",
    "    \n",
    "# it is important to remember that any class is inherited from class\n",
    "house = House()\n",
    "dir(house)"
   ]
  },
  {
   "cell_type": "code",
   "execution_count": 51,
   "id": "c018fde1",
   "metadata": {},
   "outputs": [
    {
     "data": {
      "text/plain": [
       "3"
      ]
     },
     "execution_count": 51,
     "metadata": {},
     "output_type": "execute_result"
    }
   ],
   "source": [
    "class House:\n",
    "    \n",
    "    # required properites to be set on object is created\n",
    "    # these are called instance attributes, because they are attributes specific to that instance of the object\n",
    "    def __init__(self,bedrooms,bathrooms):\n",
    "        self.bedrooms = bedrooms\n",
    "        self.bathrooms = bathrooms\n",
    "    \n",
    "house = House(3,2)\n",
    "house.bedrooms"
   ]
  },
  {
   "cell_type": "code",
   "execution_count": 52,
   "id": "3f3ac2a3",
   "metadata": {},
   "outputs": [
    {
     "ename": "TypeError",
     "evalue": "__init__() missing 2 required positional arguments: 'bedrooms' and 'bathrooms'",
     "output_type": "error",
     "traceback": [
      "\u001b[1;31m---------------------------------------------------------------------------\u001b[0m",
      "\u001b[1;31mTypeError\u001b[0m                                 Traceback (most recent call last)",
      "\u001b[1;32m~\\AppData\\Local\\Temp/ipykernel_5688/2666787057.py\u001b[0m in \u001b[0;36m<module>\u001b[1;34m\u001b[0m\n\u001b[1;32m----> 1\u001b[1;33m \u001b[0mhouse\u001b[0m \u001b[1;33m=\u001b[0m \u001b[0mHouse\u001b[0m\u001b[1;33m(\u001b[0m\u001b[1;33m)\u001b[0m\u001b[1;33m\u001b[0m\u001b[1;33m\u001b[0m\u001b[0m\n\u001b[0m",
      "\u001b[1;31mTypeError\u001b[0m: __init__() missing 2 required positional arguments: 'bedrooms' and 'bathrooms'"
     ]
    }
   ],
   "source": [
    "house = House()"
   ]
  },
  {
   "cell_type": "code",
   "execution_count": 58,
   "id": "4dcdee64",
   "metadata": {},
   "outputs": [
    {
     "name": "stdout",
     "output_type": "stream",
     "text": [
      "Bedrooms : 3\n"
     ]
    },
    {
     "data": {
      "text/plain": [
       "'This class is used to define an object of type House.'"
      ]
     },
     "execution_count": 58,
     "metadata": {},
     "output_type": "execute_result"
    }
   ],
   "source": [
    "class House:\n",
    "    \n",
    "    # class attributes are attributes which are shared among all instances of an object\n",
    "    class_description = 'This class is used to define an object of type House.'\n",
    "    \n",
    "    def __init__(self,bedrooms,bathrooms):\n",
    "        self.bedrooms = bedrooms\n",
    "        self.bathrooms = bathrooms\n",
    "    \n",
    "house = House(3,2)\n",
    "print('Bedrooms :', house.bedrooms)\n",
    "house.class_description"
   ]
  },
  {
   "cell_type": "code",
   "execution_count": 57,
   "id": "2ab887a2",
   "metadata": {},
   "outputs": [
    {
     "name": "stdout",
     "output_type": "stream",
     "text": [
      "Bedrooms : 2\n"
     ]
    },
    {
     "data": {
      "text/plain": [
       "'This class is used to define an object of type House.'"
      ]
     },
     "execution_count": 57,
     "metadata": {},
     "output_type": "execute_result"
    }
   ],
   "source": [
    "house = House(2,1)\n",
    "print('Bedrooms :', house.bedrooms)\n",
    "house.class_description"
   ]
  },
  {
   "cell_type": "code",
   "execution_count": 59,
   "id": "6afc770e",
   "metadata": {},
   "outputs": [
    {
     "data": {
      "text/plain": [
       "'This house has 3 bedrooms, and 2 bathrooms.'"
      ]
     },
     "execution_count": 59,
     "metadata": {},
     "output_type": "execute_result"
    }
   ],
   "source": [
    "class House:\n",
    "        \n",
    "    class_description = 'This class is used to define an object of type House.'\n",
    "    \n",
    "    def __init__(self,bedrooms,bathrooms):\n",
    "        self.bedrooms = bedrooms\n",
    "        self.bathrooms = bathrooms\n",
    "    \n",
    "    # you can define instance functions which return data based on the specific instance of that object\n",
    "    def get_description(self):\n",
    "        return f\"This house has {self.bedrooms} bedrooms, and {self.bathrooms} bathrooms.\"\n",
    "    \n",
    "    \n",
    "house = House(3,2)\n",
    "house.get_description()"
   ]
  },
  {
   "cell_type": "markdown",
   "id": "3b234978",
   "metadata": {},
   "source": [
    "### Generators\n",
    "\n",
    "A **generator function** will return a value with the yield keyword rather than return. If the body of def contains yeild, the function is a generator.\n",
    "\n",
    "A **generator object** is an object that can be called which will execute the next method in the object.\n",
    "\n",
    "When the yield statement is hit the program saves the state of the function, and any variables bound to the generator function. This is handy if you want to call back to that function and it's related state to extract something else."
   ]
  },
  {
   "cell_type": "code",
   "execution_count": 62,
   "id": "ae51d1af",
   "metadata": {},
   "outputs": [
    {
     "name": "stdout",
     "output_type": "stream",
     "text": [
      "1\n",
      "2\n",
      "3\n"
     ]
    }
   ],
   "source": [
    "def simpleGeneratorFun():\n",
    "    yield 1\n",
    "    yield 2\n",
    "    yield 3\n",
    "    \n",
    "for value in simpleGeneratorFun():\n",
    "    print(value)"
   ]
  },
  {
   "cell_type": "code",
   "execution_count": 75,
   "id": "a8f677e1",
   "metadata": {},
   "outputs": [
    {
     "name": "stdout",
     "output_type": "stream",
     "text": [
      "This is printed first\n"
     ]
    },
    {
     "data": {
      "text/plain": [
       "1"
      ]
     },
     "execution_count": 75,
     "metadata": {},
     "output_type": "execute_result"
    }
   ],
   "source": [
    "# A simple generator function\n",
    "def my_gen():\n",
    "    n = 1\n",
    "    print('This is printed first')\n",
    "    # Generator function contains yield statements\n",
    "    yield n\n",
    "\n",
    "    n += 1\n",
    "    print('This is printed second')\n",
    "    yield n\n",
    "\n",
    "    n += 1\n",
    "    print('This is printed at last')\n",
    "    yield n\n",
    "\n",
    "a = my_gen()\n",
    "next(a)"
   ]
  },
  {
   "cell_type": "code",
   "execution_count": 76,
   "id": "411ef1fb",
   "metadata": {},
   "outputs": [
    {
     "name": "stdout",
     "output_type": "stream",
     "text": [
      "This is printed second\n"
     ]
    },
    {
     "data": {
      "text/plain": [
       "2"
      ]
     },
     "execution_count": 76,
     "metadata": {},
     "output_type": "execute_result"
    }
   ],
   "source": [
    "next(a)"
   ]
  },
  {
   "cell_type": "code",
   "execution_count": 77,
   "id": "f226a50f",
   "metadata": {},
   "outputs": [
    {
     "name": "stdout",
     "output_type": "stream",
     "text": [
      "This is printed at last\n"
     ]
    },
    {
     "data": {
      "text/plain": [
       "3"
      ]
     },
     "execution_count": 77,
     "metadata": {},
     "output_type": "execute_result"
    }
   ],
   "source": [
    "next(a)"
   ]
  },
  {
   "cell_type": "code",
   "execution_count": 78,
   "id": "4cbd141a",
   "metadata": {},
   "outputs": [
    {
     "ename": "StopIteration",
     "evalue": "",
     "output_type": "error",
     "traceback": [
      "\u001b[1;31m---------------------------------------------------------------------------\u001b[0m",
      "\u001b[1;31mStopIteration\u001b[0m                             Traceback (most recent call last)",
      "\u001b[1;32m~\\AppData\\Local\\Temp/ipykernel_5688/1242322984.py\u001b[0m in \u001b[0;36m<module>\u001b[1;34m\u001b[0m\n\u001b[1;32m----> 1\u001b[1;33m \u001b[0mnext\u001b[0m\u001b[1;33m(\u001b[0m\u001b[0ma\u001b[0m\u001b[1;33m)\u001b[0m\u001b[1;33m\u001b[0m\u001b[1;33m\u001b[0m\u001b[0m\n\u001b[0m",
      "\u001b[1;31mStopIteration\u001b[0m: "
     ]
    }
   ],
   "source": [
    "next(a)"
   ]
  },
  {
   "cell_type": "code",
   "execution_count": null,
   "id": "7cbb5ef6",
   "metadata": {},
   "outputs": [],
   "source": []
  }
 ],
 "metadata": {
  "kernelspec": {
   "display_name": "Python 3 (ipykernel)",
   "language": "python",
   "name": "python3"
  },
  "language_info": {
   "codemirror_mode": {
    "name": "ipython",
    "version": 3
   },
   "file_extension": ".py",
   "mimetype": "text/x-python",
   "name": "python",
   "nbconvert_exporter": "python",
   "pygments_lexer": "ipython3",
   "version": "3.9.7"
  }
 },
 "nbformat": 4,
 "nbformat_minor": 5
}
